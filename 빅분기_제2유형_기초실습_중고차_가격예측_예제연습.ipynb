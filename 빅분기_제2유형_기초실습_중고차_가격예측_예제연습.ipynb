{
  "nbformat": 4,
  "nbformat_minor": 0,
  "metadata": {
    "colab": {
      "provenance": [],
      "authorship_tag": "ABX9TyOg9gV16gY1nhSzgitiwEqf",
      "include_colab_link": true
    },
    "kernelspec": {
      "name": "python3",
      "display_name": "Python 3"
    },
    "language_info": {
      "name": "python"
    }
  },
  "cells": [
    {
      "cell_type": "markdown",
      "metadata": {
        "id": "view-in-github",
        "colab_type": "text"
      },
      "source": [
        "<a href=\"https://colab.research.google.com/github/HJ0519/SejongUniversity_Business_Analytics_PBL3/blob/main/%EB%B9%85%EB%B6%84%EA%B8%B0_%EC%A0%9C2%EC%9C%A0%ED%98%95_%EA%B8%B0%EC%B4%88%EC%8B%A4%EC%8A%B5_%EC%A4%91%EA%B3%A0%EC%B0%A8_%EA%B0%80%EA%B2%A9%EC%98%88%EC%B8%A1_%EC%98%88%EC%A0%9C%EC%97%B0%EC%8A%B5.ipynb\" target=\"_parent\"><img src=\"https://colab.research.google.com/assets/colab-badge.svg\" alt=\"Open In Colab\"/></a>"
      ]
    },
    {
      "cell_type": "markdown",
      "source": [
        "The cleaned data set contains information of price, transmission, mileage, fuel type, road tax, miles per gallon (mpg), and engine size.\n",
        "\n",
        "I've removed duplicate listings and cleaned the columns, but have included a notebook showing the process and the original data for anyone who wants to check/improve my work."
      ],
      "metadata": {
        "id": "AYo4RdvBnZQg"
      }
    },
    {
      "cell_type": "markdown",
      "source": [
        "데이터셋: used car price dataset"
      ],
      "metadata": {
        "id": "Sg-ni3cpiMeN"
      }
    },
    {
      "cell_type": "code",
      "execution_count": null,
      "metadata": {
        "id": "VtuTouYQnHCR",
        "colab": {
          "base_uri": "https://localhost:8080/"
        },
        "outputId": "64819b00-da67-40fe-cfe0-e2e7a0f1ca06"
      },
      "outputs": [
        {
          "output_type": "stream",
          "name": "stderr",
          "text": [
            "/usr/local/lib/python3.7/dist-packages/ipykernel_launcher.py:52: SettingWithCopyWarning: \n",
            "A value is trying to be set on a copy of a slice from a DataFrame.\n",
            "Try using .loc[row_indexer,col_indexer] = value instead\n",
            "\n",
            "See the caveats in the documentation: https://pandas.pydata.org/pandas-docs/stable/user_guide/indexing.html#returning-a-view-versus-a-copy\n",
            "/usr/local/lib/python3.7/dist-packages/ipykernel_launcher.py:53: SettingWithCopyWarning: \n",
            "A value is trying to be set on a copy of a slice from a DataFrame.\n",
            "Try using .loc[row_indexer,col_indexer] = value instead\n",
            "\n",
            "See the caveats in the documentation: https://pandas.pydata.org/pandas-docs/stable/user_guide/indexing.html#returning-a-view-versus-a-copy\n",
            "/usr/local/lib/python3.7/dist-packages/ipykernel_launcher.py:54: SettingWithCopyWarning: \n",
            "A value is trying to be set on a copy of a slice from a DataFrame.\n",
            "Try using .loc[row_indexer,col_indexer] = value instead\n",
            "\n",
            "See the caveats in the documentation: https://pandas.pydata.org/pandas-docs/stable/user_guide/indexing.html#returning-a-view-versus-a-copy\n",
            "/usr/local/lib/python3.7/dist-packages/ipykernel_launcher.py:55: SettingWithCopyWarning: \n",
            "A value is trying to be set on a copy of a slice from a DataFrame.\n",
            "Try using .loc[row_indexer,col_indexer] = value instead\n",
            "\n",
            "See the caveats in the documentation: https://pandas.pydata.org/pandas-docs/stable/user_guide/indexing.html#returning-a-view-versus-a-copy\n",
            "/usr/local/lib/python3.7/dist-packages/ipykernel_launcher.py:57: SettingWithCopyWarning: \n",
            "A value is trying to be set on a copy of a slice from a DataFrame.\n",
            "Try using .loc[row_indexer,col_indexer] = value instead\n",
            "\n",
            "See the caveats in the documentation: https://pandas.pydata.org/pandas-docs/stable/user_guide/indexing.html#returning-a-view-versus-a-copy\n",
            "/usr/local/lib/python3.7/dist-packages/ipykernel_launcher.py:58: SettingWithCopyWarning: \n",
            "A value is trying to be set on a copy of a slice from a DataFrame.\n",
            "Try using .loc[row_indexer,col_indexer] = value instead\n",
            "\n",
            "See the caveats in the documentation: https://pandas.pydata.org/pandas-docs/stable/user_guide/indexing.html#returning-a-view-versus-a-copy\n",
            "/usr/local/lib/python3.7/dist-packages/ipykernel_launcher.py:59: SettingWithCopyWarning: \n",
            "A value is trying to be set on a copy of a slice from a DataFrame.\n",
            "Try using .loc[row_indexer,col_indexer] = value instead\n",
            "\n",
            "See the caveats in the documentation: https://pandas.pydata.org/pandas-docs/stable/user_guide/indexing.html#returning-a-view-versus-a-copy\n",
            "/usr/local/lib/python3.7/dist-packages/ipykernel_launcher.py:60: SettingWithCopyWarning: \n",
            "A value is trying to be set on a copy of a slice from a DataFrame.\n",
            "Try using .loc[row_indexer,col_indexer] = value instead\n",
            "\n",
            "See the caveats in the documentation: https://pandas.pydata.org/pandas-docs/stable/user_guide/indexing.html#returning-a-view-versus-a-copy\n",
            "/usr/local/lib/python3.7/dist-packages/sklearn/utils/validation.py:1692: FutureWarning: Feature names only support names that are all strings. Got feature names with dtypes: ['int', 'str']. An error will be raised in 1.2.\n",
            "  FutureWarning,\n",
            "/usr/local/lib/python3.7/dist-packages/ipykernel_launcher.py:96: DataConversionWarning: A column-vector y was passed when a 1d array was expected. Please change the shape of y to (n_samples,), for example using ravel().\n",
            "/usr/local/lib/python3.7/dist-packages/sklearn/utils/validation.py:1692: FutureWarning: Feature names only support names that are all strings. Got feature names with dtypes: ['int', 'str']. An error will be raised in 1.2.\n",
            "  FutureWarning,\n",
            "/usr/local/lib/python3.7/dist-packages/sklearn/utils/validation.py:1692: FutureWarning: Feature names only support names that are all strings. Got feature names with dtypes: ['int', 'str']. An error will be raised in 1.2.\n",
            "  FutureWarning,\n"
          ]
        }
      ],
      "source": [
        "import pandas as pd\n",
        "X_train = pd.read_csv('X_train.csv')\n",
        "X_test = pd.read_csv('X_test.csv')\n",
        "y_train = pd.read_csv('y_train.csv')\n",
        "\n",
        "x_train = X_train.copy()\n",
        "x_test = X_test.copy()\n",
        "\n",
        "# print(x_train.info())\n",
        "# carID: 삭제\n",
        "# 수치형 변수: year, mileage, tax, mpg, engineSize\n",
        "# 문자형 변수: brand, model, transmission, fuelType\n",
        "# 결측치: x\n",
        "\n",
        "# print(x_test.info())\n",
        "# carID: 삭제\n",
        "# 수치형 변수: year, mileage, tax, mpg, engineSize\n",
        "# 문자형 변수: brand, model, transmission, fuelType\n",
        "# 결측치: x\n",
        "\n",
        "# print(y_train.info())\n",
        "# carID: 삭제\n",
        "# 종속변수: price(가격) -> 수치형, 연속형 => 예측\n",
        "# 결측치: x\n",
        "\n",
        "x_test_carID = x_test['carID']\n",
        "x_train = x_train.drop(columns = ['carID'])\n",
        "x_test = x_test.drop(columns = ['carID'])\n",
        "y_train = y_train.drop(columns = ['carID'])\n",
        "\n",
        "x_num = x_train[['year', 'mileage', 'tax', 'mpg', 'engineSize']]\n",
        "test_num = x_test[['year', 'mileage', 'tax', 'mpg', 'engineSize']]\n",
        "x_cat = x_train[['brand', 'model', 'transmission', 'fuelType']]\n",
        "test_cat = x_test[['brand', 'model', 'transmission', 'fuelType']]\n",
        "\n",
        "# print(x_train['brand'].unique().size) # 라벨 인코딩\n",
        "# print(x_train['model'].unique().size) # 라벨 인코딩\n",
        "# print(x_train['transmission'].unique().size) # 라벨 인코딩\n",
        "# print(x_train['fuelType'].unique().size) # 라벨 인코딩\n",
        "\n",
        "# print(x_num.describe().T) # 종속변수가 수치형 -> 최소최대\n",
        "\n",
        "from sklearn.preprocessing import MinMaxScaler\n",
        "scaler = MinMaxScaler()\n",
        "scaler.fit(x_num)\n",
        "x_scaled = scaler.transform(x_num)\n",
        "test_scaled = scaler.transform(test_num)\n",
        "\n",
        "from sklearn.preprocessing import LabelEncoder\n",
        "encoder = LabelEncoder()\n",
        "\n",
        "x_cat['brand'] = encoder.fit_transform(x_cat['brand'])\n",
        "x_cat['model'] = encoder.fit_transform(x_cat['model'])\n",
        "x_cat['transmission'] = encoder.fit_transform(x_cat['transmission'])\n",
        "x_cat['fuelType'] = encoder.fit_transform(x_cat['fuelType'])\n",
        "\n",
        "test_cat['brand'] = encoder.fit_transform(test_cat['brand'])\n",
        "test_cat['model'] = encoder.fit_transform(test_cat['model'])\n",
        "test_cat['transmission'] = encoder.fit_transform(test_cat['transmission'])\n",
        "test_cat['fuelType'] = encoder.fit_transform(test_cat['fuelType'])\n",
        "\n",
        "# 다른 형식 -> 에러 발생(numpy, not convert)\n",
        "# encoder.fit(x_cat['brand'])\n",
        "# encoder.transform(x_cat['brand'])\n",
        "# encoder.fit(x_cat['model'])\n",
        "# encoder.transform(x_cat['model'])\n",
        "# encoder.fit(x_cat['transmission'])\n",
        "# encoder.transform(x_cat['transmission'])\n",
        "# encoder.fit(x_cat['fuelType'])\n",
        "# encoder.transform(x_cat['fuelType'])\n",
        "\n",
        "# encoder.fit(test_cat['brand'])\n",
        "# encoder.transform(test_cat['brand'])\n",
        "# encoder.fit(test_cat['model'])\n",
        "# encoder.transform(test_cat['model'])\n",
        "# encoder.fit(test_cat['transmission'])\n",
        "# encoder.transform(test_cat['transmission'])\n",
        "# encoder.fit(test_cat['fuelType'])\n",
        "# encoder.transform(test_cat['fuelType'])\n",
        "\n",
        "x_cat, test_cat = x_cat.align(test_cat, join = 'inner', axis = 1)\n",
        "\n",
        "x_train = pd.concat([pd.DataFrame(x_scaled),x_cat], axis = 1)\n",
        "x_test = pd.concat([pd.DataFrame(test_scaled), test_cat], axis = 1)\n",
        "\n",
        "from sklearn.model_selection import train_test_split\n",
        "X_TRAIN, X_TEST, Y_TRAIN, Y_TEST = train_test_split(x_train, y_train,\n",
        "                                                    test_size = 0.2, random_state = 10)\n",
        "# print(X_TRAIN.shape) # (3968, 9)\n",
        "# print(X_TEST.shape) # (992, 9)\n",
        "# print(Y_TRAIN.shape) # (3968, 1)\n",
        "# print(Y_TEST.shape) # (992, 1)\n",
        "\n",
        "from sklearn.ensemble import RandomForestRegressor\n",
        "model = RandomForestRegressor(random_state = 10)\n",
        "model.fit(X_TRAIN, Y_TRAIN)\n",
        "pred_test = pd.DataFrame(model.predict(x_test)).rename(columns = {0: 'price'})\n",
        "# print(pred_test)\n",
        "PRED_TEST = pd.DataFrame(model.predict(X_TEST)).rename(columns = {0: 'price'})\n",
        "\n",
        "# from sklearn.metrics import r2_score\n",
        "# print(r2_score(PRED_TEST, Y_TEST)) # 0.922(파라미터x)\n",
        "\n",
        "pred_test.to_csv('005001302.csv', index = False) # 005001302: 수험번호\n",
        "# 답안 파일은 지시된 파일명 사용해야 함\n",
        "\n",
        "# check = pd.read_csv('005001302.csv')\n",
        "# print(check)"
      ]
    }
  ]
}